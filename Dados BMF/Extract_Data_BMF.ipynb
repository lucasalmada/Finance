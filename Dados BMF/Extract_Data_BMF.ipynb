{
 "cells": [
  {
   "cell_type": "code",
   "execution_count": null,
   "metadata": {
    "ExecuteTime": {
     "end_time": "2019-07-29T18:38:21.056704Z",
     "start_time": "2019-07-29T18:38:20.989427Z"
    }
   },
   "outputs": [],
   "source": [
    "from selenium import webdriver\n",
    "from bs4 import BeautifulSoup\n",
    "import lxml.html as parser\n",
    "import pandas as pd\n",
    "from datetime import datetime,timedelta"
   ]
  },
  {
   "cell_type": "markdown",
   "metadata": {
    "ExecuteTime": {
     "end_time": "2019-07-26T19:43:04.252329Z",
     "start_time": "2019-07-26T19:42:53.511357Z"
    }
   },
   "source": [
    "browser = webdriver.PhantomJS(executable_path='C:\\phantomjs.exe')\n",
    "\n",
    "browser.get('http://www2.bmf.com.br/pages/portal/bmfbovespa/lumis/lum-sistema-pregao-ptBR.asp?Data=23/07/2019&Mercadoria=DOL')\n",
    "\n",
    "dict_dados = {}\n",
    "\n",
    "part1 = browser.find_element_by_xpath(\".//td[@id = 'MercadoFut1']//tr[2]\").text.split()\n",
    "\n",
    "dict_dados['Contratos Abertos'] = [int(part1[0].replace('.',''))]\n",
    "dict_dados['Contratos Fechados'] =[int(part1[1].replace('.',''))]\n",
    "dict_dados['Número Negócios'] =[int(part1[2].replace('.',''))]\n",
    "dict_dados['Contratos Negociados'] =[int(part1[3].replace('.',''))]\n",
    "dict_dados['Volume'] = [int(part1[4].replace('.',''))]\n",
    "\n",
    "part2 = browser.find_element_by_xpath(\".//td[@id = 'MercadoFut2']//tr[2]\").text.split()\n",
    "\n",
    "dict_dados['Abertura'] = [float(part2[0].replace(',',''))]\n",
    "dict_dados['Mínimo'] = [float(part2[1].replace(',',''))]\n",
    "dict_dados['Máximo'] = [float(part2[2].replace(',',''))]\n",
    "dict_dados['Médio'] = [float(part2[3].replace(',',''))]\n",
    "dict_dados['Último Preço'] = [float(part2[4].replace(',',''))]\n",
    "dict_dados['Ajuste'] = [float(part2[5].replace(',',''))]\n",
    "dict_dados['Var pontos'] = [int(part2[6].replace(',','').replace('+',''))]\n",
    "dict_dados['Última oferta de compra'] = [float(part2[7].replace(',',''))]\n",
    "dict_dados['Última oferta de venda'] = [float(part2[8].replace(',',''))]\n"
   ]
  },
  {
   "cell_type": "markdown",
   "metadata": {},
   "source": [
    "#browser = webdriver.PhantomJS(executable_path='/content/drive/phantomjs.exe')\n",
    "\n",
    "chrome_options = webdriver.ChromeOptions()\n",
    "chrome_options.add_argument('--headless')\n",
    "chrome_options.add_argument('--no-sandbox')\n",
    "chrome_options.add_argument('--disable-dev-shm-usage')\n",
    "browser = webdriver.Chrome('chromedriver',chrome_options=chrome_options)\n",
    "\n",
    "lista_dataframe =[]\n",
    "\n",
    "today = datetime.today()\n",
    "date = (datetime.today() - timedelta(days = 1)).strftime(\"%d/%m/%Y\") \n",
    "\n",
    "for i in range(1,1000):\n",
    "    try:\n",
    "        date = (today - timedelta(days = i)).strftime(\"%d/%m/%Y\") \n",
    "        browser.get(f'http://www2.bmf.com.br/pages/portal/bmfbovespa/lumis/lum-sistema-pregao-ptBR.asp?Data={date}&Mercadoria=DOL')\n",
    "\n",
    "\n",
    "        part1 = browser.find_element_by_xpath(\".//td[@id = 'MercadoFut1']//tr[2]\").text.split()\n",
    "        part2 = browser.find_element_by_xpath(\".//td[@id = 'MercadoFut2']//tr[2]\").text.split()\n",
    "\n",
    "        lista_dataframe.append([date,\n",
    "            int(part1[0].replace('.','')), int(part1[1].replace('.','')), int(part1[2].replace('.','')),\n",
    "                           int(part1[3].replace('.','')), int(part1[4].replace('.','')), float(part2[0].replace(',','')),\n",
    "                        float(part2[1].replace(',','')),float(part2[2].replace(',','')),float(part2[3].replace(',','')),\n",
    "                    float(part2[4].replace(',','')),float(part2[5].replace(',','')), int(part2[6].replace(',','').replace('+','').replace('-','')),\n",
    "                float(part2[7].replace(',','')), float(part2[8].replace(',',''))\n",
    "        ])\n",
    "    except:\n",
    "        pass\n",
    "\n",
    "colunas = ['Data','Contratos Abertos', 'Contratos Fechados', 'Número Negócios', 'Contratos Negociados','Volume','Abertura','Mínimo',\n",
    "             'Máximo', 'Médio','Último Preço','Ajuste','Var pontos', 'Última oferta de compra','Última oferta de venda']\n"
   ]
  },
  {
   "cell_type": "code",
   "execution_count": null,
   "metadata": {
    "ExecuteTime": {
     "start_time": "2019-07-29T19:53:54.020Z"
    }
   },
   "outputs": [],
   "source": [
    "browser = webdriver.PhantomJS(executable_path='C:\\phantomjs.exe')\n",
    "\n",
    "lista_dataframe =[]\n",
    "\n",
    "today = datetime.today()\n",
    "date = (datetime.today() - timedelta(days = 1)).strftime(\"%d/%m/%Y\") \n",
    "\n",
    "for i in range(1,50):\n",
    "    try:\n",
    "        date = (today - timedelta(days = i)).strftime(\"%d/%m/%Y\") \n",
    "        browser.get(f'http://www2.bmf.com.br/pages/portal/bmfbovespa/lumis/lum-sistema-pregao-ptBR.asp?Data={date}&Mercadoria=DOL')\n",
    "\n",
    "\n",
    "        part1 = browser.find_element_by_xpath(\".//td[@id = 'MercadoFut1']//tr[2]\").text.split()\n",
    "        part2 = browser.find_element_by_xpath(\".//td[@id = 'MercadoFut2']//tr[2]\").text.split()\n",
    "\n",
    "        lista_dataframe.append([date,\n",
    "            int(part1[0].replace('.','')), int(part1[1].replace('.','')), int(part1[2].replace('.','')),\n",
    "                           int(part1[3].replace('.','')), int(part1[4].replace('.','')), float(part2[0].replace(',','')),\n",
    "                        float(part2[1].replace(',','')),float(part2[2].replace(',','')),float(part2[3].replace(',','')),\n",
    "                    float(part2[4].replace(',','')),float(part2[5].replace(',','')), int(part2[6].replace(',','').replace('+','').replace('-','')),\n",
    "                float(part2[7].replace(',','')), float(part2[8].replace(',',''))\n",
    "        ])\n",
    "    except:\n",
    "        pass\n",
    "\n",
    "colunas = ['Data','Contratos Abertos', 'Contratos Fechados', 'Número Negócios', 'Contratos Negociados','Volume','Abertura','Mínimo',\n",
    "             'Máximo', 'Médio','Último Preço','Ajuste','Var pontos', 'Última oferta de compra','Última oferta de venda']\n",
    "\n",
    "df_data = pd.DataFrame(lista_dataframe, columns = colunas)"
   ]
  },
  {
   "cell_type": "code",
   "execution_count": null,
   "metadata": {
    "ExecuteTime": {
     "start_time": "2019-07-29T19:53:54.196Z"
    }
   },
   "outputs": [],
   "source": [
    "for i in df_data['Data']:\n",
    "    if i[0:2] == '01': print(i)"
   ]
  },
  {
   "cell_type": "code",
   "execution_count": null,
   "metadata": {},
   "outputs": [],
   "source": []
  }
 ],
 "metadata": {
  "hide_input": false,
  "kernelspec": {
   "display_name": "Python 3",
   "language": "python",
   "name": "python3"
  },
  "language_info": {
   "codemirror_mode": {
    "name": "ipython",
    "version": 3
   },
   "file_extension": ".py",
   "mimetype": "text/x-python",
   "name": "python",
   "nbconvert_exporter": "python",
   "pygments_lexer": "ipython3",
   "version": "3.7.3"
  },
  "toc": {
   "base_numbering": 1,
   "nav_menu": {},
   "number_sections": true,
   "sideBar": true,
   "skip_h1_title": false,
   "title_cell": "Table of Contents",
   "title_sidebar": "Contents",
   "toc_cell": false,
   "toc_position": {},
   "toc_section_display": true,
   "toc_window_display": false
  }
 },
 "nbformat": 4,
 "nbformat_minor": 2
}
